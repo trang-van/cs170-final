{
 "cells": [
  {
   "cell_type": "code",
   "execution_count": null,
   "metadata": {},
   "outputs": [],
   "source": [
    "import networkx as nx\n",
    "from parse import read_input_file, write_output_file\n",
    "from utils import is_valid_solution, calculate_happiness, convert_dictionary\n",
    "import sys\n",
    "import random\n",
    "import numpy as np\n",
    "import glob\n",
    "import os.path\n",
    "import matplotlib.pyplot as plt"
   ]
  },
  {
   "cell_type": "code",
   "execution_count": null,
   "metadata": {},
   "outputs": [],
   "source": [
    "path = \"inputs/10.in\"\n",
    "G1, s1 = read_input_file(path)"
   ]
  },
  {
   "cell_type": "code",
   "execution_count": null,
   "metadata": {},
   "outputs": [],
   "source": [
    "path2 = \"inputs/20.in\"\n",
    "G2, s2 = read_input_file(path2)"
   ]
  },
  {
   "cell_type": "code",
   "execution_count": null,
   "metadata": {},
   "outputs": [],
   "source": [
    "path3 = \"inputs/50.in\"\n",
    "G3, s3 = read_input_file(path3)"
   ]
  },
  {
   "cell_type": "code",
   "execution_count": null,
   "metadata": {},
   "outputs": [],
   "source": [
    "def plot_graph(G, attr='happiness'):\n",
    "    '''\n",
    "        Inputs:\n",
    "            G: networkx graph\n",
    "            attr: edge attributes like stress, happiness\n",
    "        Output:\n",
    "            None\n",
    "    '''\n",
    "    plt.figure(figsize=(18,18))\n",
    "    pos = nx.circular_layout(G)\n",
    "    labels = nx.get_edge_attributes(G, attr)\n",
    "    nx.draw_networkx(G, pos)\n",
    "    nx.draw_networkx_edge_labels(G,pos, edge_labels=labels)\n",
    "    plt.title(\"{} GRAPH\".format(attr.upper()))\n",
    "    plt.show()"
   ]
  },
  {
   "cell_type": "code",
   "execution_count": null,
   "metadata": {},
   "outputs": [],
   "source": [
    "def get_max_happiness(G1, node):\n",
    "    ret_node = -1\n",
    "    curr_max = -1\n",
    "    for j in G1.nodes:\n",
    "        if j == node: continue\n",
    "        else:\n",
    "            try:\n",
    "                if G1[node][j]['happiness'] > curr_max:\n",
    "                    ret_node = j\n",
    "                    curr_max = G1[node][j]['happiness']\n",
    "            except KeyError:\n",
    "                break\n",
    "    return ret_node"
   ]
  },
  {
   "cell_type": "code",
   "execution_count": 7,
   "metadata": {},
   "outputs": [],
   "source": [
    "def potential_room_happiness(G, node, s_room, room):\n",
    "    potential_happiness = s_room\n",
    "    for j in room:\n",
    "        try:\n",
    "            if j == node: continue\n",
    "            potential_happiness += G[node][j]['happiness']\n",
    "        except KeyError:\n",
    "            continue\n",
    "            \n",
    "    return potential_happiness"
   ]
  },
  {
   "cell_type": "code",
   "execution_count": 8,
   "metadata": {},
   "outputs": [],
   "source": [
    "def solve(G, s):\n",
    "    k = len(G.nodes) // 2    \n",
    "    stress_budget = s / k\n",
    "    \n",
    "    mapping = dict(zip([i for i in range(k)], [[] for i in range(k)]))\n",
    "    room_assignments = [[] for i in range(k)]\n",
    "    all_stress = dict(zip([i for i in range(k)], [0 for i in range(k)]))\n",
    "    curr_room = 0\n",
    "    # call helper function to find room assignment for node i\n",
    "    while len(G.nodes) != 2 :\n",
    "        try:\n",
    "            try:\n",
    "                try:\n",
    "                    node = list(G.nodes)[0]\n",
    "                    match= get_max_happiness(G, node)\n",
    "                except:\n",
    "                    continue\n",
    "                stress_add_node = all_stress[curr_room]\n",
    "                stress_add_match = all_stress[curr_room]\n",
    "                if len(room_assignments[curr_room]) == 0:\n",
    "                    all_stress[curr_room] += (G[node][match]['stress'])\n",
    "                else:\n",
    "                    for j in room_assignments[curr_room]:\n",
    "                        try:\n",
    "                            stress_add_node +=  G[node][j]['stress']\n",
    "\n",
    "                            stress_add_match += G[match][j]['stress']\n",
    "                        except KeyError as e:\n",
    "                            continue\n",
    "                if stress_add_node > stress_budget:\n",
    "                    #put both into new room node\n",
    "                    room_assignments[curr_room + 1] = [node, match]\n",
    "                    all_stress[curr_room + 1] += stress_add_node\n",
    "                elif stress_add_node + stress_add_match < stress_budget:\n",
    "                    # add both to room\n",
    "                    room_assignments[curr_room] += [node, match]\n",
    "                    all_stress[curr_room] += stress_add_node\n",
    "                    all_stress[curr_room] += stress_add_match\n",
    "                elif stress_add_node < stress_budget or stress_add_match < stress_budget:\n",
    "                    # choose max(happiness)\n",
    "                    # one goes to curr \n",
    "                    # other goes into next room?\n",
    "                    node_happy = potential_room_happiness(G,node,all_stress[curr_room],room_assignments[curr_room])\n",
    "                    match_happy = potential_room_happiness(G,match,all_stress[curr_room],room_assignments[curr_room])\n",
    "                    if node_happy >= match_happy:\n",
    "                        room_assignments[curr_room].append(node)\n",
    "                        all_stress[curr_room] += stress_add_node\n",
    "                        room_assignments[curr_room + 1].append(match)    \n",
    "                        all_stress[curr_room + 1] += stress_add_match\n",
    "\n",
    "                    else:\n",
    "                        room_assignments[curr_room].append(match)\n",
    "                        all_stress[curr_room] += stress_add_match\n",
    "                        room_assignments[curr_room + 1].append(node)         \n",
    "                        all_stress[curr_room + 1] += stress_add_node\n",
    "\n",
    "\n",
    "                for k, v in all_stress.items():\n",
    "                    if v > stress_budget:\n",
    "                        #mapping[curr_room] = room_assignments[curr_room]\n",
    "                        curr_room += 1\n",
    "                G.remove_node(node)\n",
    "                G.remove_node(match)\n",
    "                #plot_graph(G)\n",
    "                if len(G.nodes) == 2:\n",
    "                    for i in range(len(room_assignments)):  \n",
    "                        if len(room_assignments[i]) == 0:\n",
    "                            room_assignments[i] += list(G.nodes)\n",
    "                            break\n",
    "\n",
    "                elif len(G.nodes) == 1:\n",
    "                    for i in range(len(room_assignments)):\n",
    "\n",
    "                        if len(room_assignments[i]) == 0:\n",
    "\n",
    "                            room_assignments[i] += list(G.nodes)\n",
    "                            break\n",
    "\n",
    "\n",
    "                mapping = dict(zip([i for i in range(len(room_assignments))], room_assignments))\n",
    "            except IndexError:\n",
    "                for i in range(len(room_assignments)):\n",
    "                    if len(room_assignments[i]) == 0:\n",
    "                        curr_room = i\n",
    "                        continue\n",
    "                    else:\n",
    "                        pass\n",
    "        except KeyError:\n",
    "            continue\n",
    "    return convert_dictionary(mapping), k"
   ]
  },
  {
   "cell_type": "code",
   "execution_count": 9,
   "metadata": {},
   "outputs": [
    {
     "data": {
      "text/plain": [
       "{0: 0, 9: 0, 1: 0, 3: 1, 2: 1, 6: 2, 4: 3, 5: 3, 7: 4, 8: 4}"
      ]
     },
     "execution_count": 9,
     "metadata": {},
     "output_type": "execute_result"
    }
   ],
   "source": [
    "res1, k = solve(G1, s1)\n",
    "res1"
   ]
  },
  {
   "cell_type": "code",
   "execution_count": 10,
   "metadata": {},
   "outputs": [
    {
     "data": {
      "text/plain": [
       "True"
      ]
     },
     "execution_count": 10,
     "metadata": {},
     "output_type": "execute_result"
    }
   ],
   "source": [
    "is_valid_solution(res1, G1, s1, k)"
   ]
  },
  {
   "cell_type": "code",
   "execution_count": 11,
   "metadata": {},
   "outputs": [],
   "source": [
    "output_path = './out' + os.path.basename(os.path.normpath('inputs/10.in'))[:-3] + '.out'\n",
    "write_output_file(res1, output_path)"
   ]
  },
  {
   "cell_type": "code",
   "execution_count": null,
   "metadata": {},
   "outputs": [],
   "source": [
    "res2, k2 = solve(G2, s2)\n",
    "res2"
   ]
  },
  {
   "cell_type": "code",
   "execution_count": null,
   "metadata": {},
   "outputs": [],
   "source": [
    "is_valid_solution(res2, G2, s2, k2)"
   ]
  },
  {
   "cell_type": "code",
   "execution_count": null,
   "metadata": {},
   "outputs": [],
   "source": [
    "output_path = './out' + os.path.basename(os.path.normpath('inputs/20.in'))[:-3] + '.out'\n",
    "write_output_file(res2, output_path)"
   ]
  },
  {
   "cell_type": "code",
   "execution_count": null,
   "metadata": {},
   "outputs": [],
   "source": [
    "res3, k3 = solve(G3, s3)\n",
    "res3"
   ]
  },
  {
   "cell_type": "code",
   "execution_count": null,
   "metadata": {},
   "outputs": [],
   "source": [
    "is_valid_solution(res3, G3, s3, k3)"
   ]
  },
  {
   "cell_type": "code",
   "execution_count": null,
   "metadata": {},
   "outputs": [],
   "source": [
    "import os\n",
    "def generate(filename):\n",
    "    G, s = read_input_file('inputs/' + filename)\n",
    "    D, k = solve(G, s)\n",
    "    assert is_valid_solution(D, G, s, k)\n",
    "    print(\"Total Happiness: {}\".format(calculate_happiness(D, G)))\n",
    "    output_path = './out' + os.path.basename(os.path.normpath(filename))[:-3] + '.out'\n",
    "    write_output_file(D, output_path)\n",
    "        \n",
    "if __name__ == '__main__':\n",
    "    #print(os.listdir('./inputs'))\n",
    "    for filename in os.listdir('./inputs'):\n",
    "        ## ideally run all files\n",
    "        if \"small\" in filename:\n",
    "             generate(filename)\n",
    "    "
   ]
  },
  {
   "cell_type": "code",
   "execution_count": null,
   "metadata": {},
   "outputs": [],
   "source": []
  }
 ],
 "metadata": {
  "kernelspec": {
   "display_name": "Python 3",
   "language": "python",
   "name": "python3"
  },
  "language_info": {
   "codemirror_mode": {
    "name": "ipython",
    "version": 3
   },
   "file_extension": ".py",
   "mimetype": "text/x-python",
   "name": "python",
   "nbconvert_exporter": "python",
   "pygments_lexer": "ipython3",
   "version": "3.7.3"
  }
 },
 "nbformat": 4,
 "nbformat_minor": 2
}
